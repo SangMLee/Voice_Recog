{
 "cells": [
  {
   "cell_type": "code",
   "execution_count": 1,
   "metadata": {},
   "outputs": [],
   "source": [
    "import os\n",
    "import glob\n",
    "import random\n",
    "import librosa\n",
    "import librosa.display \n",
    "import numpy as np\n",
    "import pandas as pd\n",
    "\n",
    "import tensorflow \n",
    "import IPython.display as ipd\n",
    "import matplotlib.pyplot as plt\n",
    "from tensorflow.keras.preprocessing.image import ImageDataGenerator \n",
    "\n",
    "%matplotlib inline\n",
    "\n",
    "random.seed=(123)"
   ]
  },
  {
   "cell_type": "code",
   "execution_count": 2,
   "metadata": {},
   "outputs": [
    {
     "name": "stdout",
     "output_type": "stream",
     "text": [
      "Found 2203 images belonging to 100 classes.\n"
     ]
    }
   ],
   "source": [
    "data = ImageDataGenerator()\n",
    "data = data.flow_from_directory(directory=\"../data/test\", target_size=(224,224),shuffle=False, batch_size=32) "
   ]
  },
  {
   "cell_type": "code",
   "execution_count": 3,
   "metadata": {},
   "outputs": [],
   "source": [
    "d_lab = data.class_indices"
   ]
  },
  {
   "cell_type": "code",
   "execution_count": 4,
   "metadata": {},
   "outputs": [
    {
     "name": "stdout",
     "output_type": "stream",
     "text": [
      "Found 100 images belonging to 66 classes.\n"
     ]
    }
   ],
   "source": [
    "BATCH_SIZE = 32\n",
    "tedata = ImageDataGenerator()\n",
    "\n",
    "testdata = tedata.flow_from_directory(directory=\"../data/source/Source\",target_size=(224,224) ,shuffle=False, batch_size=BATCH_SIZE)"
   ]
  },
  {
   "cell_type": "code",
   "execution_count": 5,
   "metadata": {},
   "outputs": [],
   "source": [
    "model_name = \"../models/cnn_20epoch.h5\""
   ]
  },
  {
   "cell_type": "code",
   "execution_count": 6,
   "metadata": {},
   "outputs": [
    {
     "name": "stdout",
     "output_type": "stream",
     "text": [
      "Model: \"sequential_1\"\n",
      "_________________________________________________________________\n",
      "Layer (type)                 Output Shape              Param #   \n",
      "=================================================================\n",
      "conv2d_6 (Conv2D)            (None, 224, 224, 64)      1792      \n",
      "_________________________________________________________________\n",
      "conv2d_7 (Conv2D)            (None, 224, 224, 64)      36928     \n",
      "_________________________________________________________________\n",
      "max_pooling2d_3 (MaxPooling2 (None, 112, 112, 64)      0         \n",
      "_________________________________________________________________\n",
      "dropout_2 (Dropout)          (None, 112, 112, 64)      0         \n",
      "_________________________________________________________________\n",
      "conv2d_8 (Conv2D)            (None, 112, 112, 128)     73856     \n",
      "_________________________________________________________________\n",
      "conv2d_9 (Conv2D)            (None, 112, 112, 128)     147584    \n",
      "_________________________________________________________________\n",
      "max_pooling2d_4 (MaxPooling2 (None, 56, 56, 128)       0         \n",
      "_________________________________________________________________\n",
      "dropout_3 (Dropout)          (None, 56, 56, 128)       0         \n",
      "_________________________________________________________________\n",
      "conv2d_10 (Conv2D)           (None, 56, 56, 256)       295168    \n",
      "_________________________________________________________________\n",
      "conv2d_11 (Conv2D)           (None, 56, 56, 256)       590080    \n",
      "_________________________________________________________________\n",
      "max_pooling2d_5 (MaxPooling2 (None, 28, 28, 256)       0         \n",
      "_________________________________________________________________\n",
      "flatten_1 (Flatten)          (None, 200704)            0         \n",
      "_________________________________________________________________\n",
      "dense_2 (Dense)              (None, 1024)              205521920 \n",
      "_________________________________________________________________\n",
      "dense_3 (Dense)              (None, 100)               102500    \n",
      "=================================================================\n",
      "Total params: 206,769,828\n",
      "Trainable params: 206,769,828\n",
      "Non-trainable params: 0\n",
      "_________________________________________________________________\n"
     ]
    }
   ],
   "source": [
    "from tensorflow.keras.models import load_model\n",
    "model = load_model(model_name)\n",
    "model.summary()"
   ]
  },
  {
   "cell_type": "code",
   "execution_count": 7,
   "metadata": {},
   "outputs": [
    {
     "name": "stdout",
     "output_type": "stream",
     "text": [
      "4/4 [==============================] - 18s 4s/step\n"
     ]
    }
   ],
   "source": [
    "output=model.predict(testdata,verbose=1)\n",
    "predicted=np.argmax(output,axis=1)\n",
    "\n",
    "d_lab = dict((v,k) for k,v in d_lab.items())"
   ]
  },
  {
   "cell_type": "code",
   "execution_count": 8,
   "metadata": {},
   "outputs": [],
   "source": [
    "predictions = [d_lab[k] for k in predicted]"
   ]
  },
  {
   "cell_type": "code",
   "execution_count": 9,
   "metadata": {},
   "outputs": [
    {
     "name": "stdout",
     "output_type": "stream",
     "text": [
      "['sp0032', 'sp0032', 'sp0093', 'sp0093', 'sp0112', 'sp0240', 'sp0296', 'sp0296', 'sp0459', 'sp0459', 'sp0472', 'sp0472', 'sp0492', 'sp0597', 'sp0636', 'sp0637', 'sp1050', 'sp1050', 'sp1066', 'sp1066', 'sp1112', 'sp1182', 'sp1182', 'sp1246', 'sp1271', 'sp1271', 'sp1392', 'sp1392', 'sp1417', 'sp1472', 'sp1536', 'sp1607', 'sp1607', 'sp1607', 'sp1841', 'sp1926', 'sp2012', 'sp2012', 'sp2156', 'sp2269', 'sp2269', 'sp2289', 'sp2289', 'sp2289', 'sp2294', 'sp2412', 'sp2532', 'sp2532', 'sp2673', 'sp2803', 'sp3235', 'sp3446', 'sp3446', 'sp3521', 'sp3645', 'sp3835', 'sp3835', 'sp3923', 'sp4057', 'sp4057', 'sp4057', 'sp4427', 'sp4427', 'sp4590', 'sp4744', 'sp4839', 'sp4848', 'sp4848', 'sp4957', 'sp4957', 'sp4957', 'sp5319', 'sp5583', 'sp5583', 'sp5717', 'sp5717', 'sp5789', 'sp5968', 'sp6099', 'sp6415', 'sp6544', 'sp6574', 'sp6965', 'sp7000', 'sp7000', 'sp7000', 'sp7517', 'sp7517', 'sp7517', 'sp7688', 'sp7850', 'sp7868', 'sp7881', 'sp7976', 'sp7976', 'sp8425', 'sp8635', 'sp8635', 'sp8713', 'sp8713']\n"
     ]
    }
   ],
   "source": [
    "filenames=testdata.filenames\n",
    "sspker_label = [name[name.find(\"sp\"):name.find(\"/sp\")] for name in filenames]\n",
    "print(sspker_label)"
   ]
  },
  {
   "cell_type": "code",
   "execution_count": 10,
   "metadata": {},
   "outputs": [],
   "source": [
    "results=pd.DataFrame({\"Filename\":sspker_label,\n",
    "                      \"Predictions\":predictions})"
   ]
  },
  {
   "cell_type": "code",
   "execution_count": 11,
   "metadata": {},
   "outputs": [
    {
     "data": {
      "text/plain": [
       "93.0"
      ]
     },
     "execution_count": 11,
     "metadata": {},
     "output_type": "execute_result"
    }
   ],
   "source": [
    "corr = results.loc[results['Filename'] == results['Predictions']]\n",
    "(len(corr)/len(results)) * 100"
   ]
  },
  {
   "cell_type": "code",
   "execution_count": 12,
   "metadata": {},
   "outputs": [
    {
     "data": {
      "text/html": [
       "<div>\n",
       "<style scoped>\n",
       "    .dataframe tbody tr th:only-of-type {\n",
       "        vertical-align: middle;\n",
       "    }\n",
       "\n",
       "    .dataframe tbody tr th {\n",
       "        vertical-align: top;\n",
       "    }\n",
       "\n",
       "    .dataframe thead th {\n",
       "        text-align: right;\n",
       "    }\n",
       "</style>\n",
       "<table border=\"1\" class=\"dataframe\">\n",
       "  <thead>\n",
       "    <tr style=\"text-align: right;\">\n",
       "      <th></th>\n",
       "      <th>Filename</th>\n",
       "      <th>Predictions</th>\n",
       "    </tr>\n",
       "  </thead>\n",
       "  <tbody>\n",
       "    <tr>\n",
       "      <th>0</th>\n",
       "      <td>sp0032</td>\n",
       "      <td>sp0032</td>\n",
       "    </tr>\n",
       "    <tr>\n",
       "      <th>1</th>\n",
       "      <td>sp0032</td>\n",
       "      <td>sp0032</td>\n",
       "    </tr>\n",
       "    <tr>\n",
       "      <th>2</th>\n",
       "      <td>sp0093</td>\n",
       "      <td>sp0093</td>\n",
       "    </tr>\n",
       "    <tr>\n",
       "      <th>3</th>\n",
       "      <td>sp0093</td>\n",
       "      <td>sp0093</td>\n",
       "    </tr>\n",
       "    <tr>\n",
       "      <th>4</th>\n",
       "      <td>sp0112</td>\n",
       "      <td>sp0112</td>\n",
       "    </tr>\n",
       "    <tr>\n",
       "      <th>...</th>\n",
       "      <td>...</td>\n",
       "      <td>...</td>\n",
       "    </tr>\n",
       "    <tr>\n",
       "      <th>95</th>\n",
       "      <td>sp8425</td>\n",
       "      <td>sp8425</td>\n",
       "    </tr>\n",
       "    <tr>\n",
       "      <th>96</th>\n",
       "      <td>sp8635</td>\n",
       "      <td>sp8635</td>\n",
       "    </tr>\n",
       "    <tr>\n",
       "      <th>97</th>\n",
       "      <td>sp8635</td>\n",
       "      <td>sp8635</td>\n",
       "    </tr>\n",
       "    <tr>\n",
       "      <th>98</th>\n",
       "      <td>sp8713</td>\n",
       "      <td>sp8713</td>\n",
       "    </tr>\n",
       "    <tr>\n",
       "      <th>99</th>\n",
       "      <td>sp8713</td>\n",
       "      <td>sp8713</td>\n",
       "    </tr>\n",
       "  </tbody>\n",
       "</table>\n",
       "<p>100 rows × 2 columns</p>\n",
       "</div>"
      ],
      "text/plain": [
       "   Filename Predictions\n",
       "0    sp0032      sp0032\n",
       "1    sp0032      sp0032\n",
       "2    sp0093      sp0093\n",
       "3    sp0093      sp0093\n",
       "4    sp0112      sp0112\n",
       "..      ...         ...\n",
       "95   sp8425      sp8425\n",
       "96   sp8635      sp8635\n",
       "97   sp8635      sp8635\n",
       "98   sp8713      sp8713\n",
       "99   sp8713      sp8713\n",
       "\n",
       "[100 rows x 2 columns]"
      ]
     },
     "execution_count": 12,
     "metadata": {},
     "output_type": "execute_result"
    }
   ],
   "source": [
    "results"
   ]
  },
  {
   "cell_type": "code",
   "execution_count": 13,
   "metadata": {},
   "outputs": [],
   "source": [
    "f_lst = glob.glob(\"../data/source/Source/*/*.png\")\n",
    "sspker = [name[name.find(\"/sp\")+8:name.find(\"-ch\")] for name in f_lst]"
   ]
  },
  {
   "cell_type": "code",
   "execution_count": 15,
   "metadata": {},
   "outputs": [],
   "source": [
    "out = [] \n",
    "d_lab = dict((v,k) for k,v in d_lab.items())\n",
    "from tensorflow.keras.preprocessing import image\n",
    "for i in f_lst:\n",
    "    img = image.load_img(i,target_size=(224,224))\n",
    "    img = np.asarray(img)\n",
    "    img = np.expand_dims(img, axis=0)\n",
    "    output = model.predict(img)\n",
    "    out.append(d_lab[output.argmax()])"
   ]
  },
  {
   "cell_type": "code",
   "execution_count": 16,
   "metadata": {},
   "outputs": [],
   "source": [
    "img_result = [] \n",
    "for i in range(len(out)):\n",
    "    img_result.append([out[i], sspker[i]])"
   ]
  },
  {
   "cell_type": "code",
   "execution_count": 17,
   "metadata": {},
   "outputs": [],
   "source": [
    "count = 0 \n",
    "for i in range(len(img_result)):\n",
    "    if img_result[i][0] == img_result[i][1]:\n",
    "        count += 1"
   ]
  },
  {
   "cell_type": "code",
   "execution_count": 18,
   "metadata": {},
   "outputs": [
    {
     "data": {
      "text/plain": [
       "0.93"
      ]
     },
     "execution_count": 18,
     "metadata": {},
     "output_type": "execute_result"
    }
   ],
   "source": [
    "count/len(img_result)"
   ]
  },
  {
   "cell_type": "code",
   "execution_count": null,
   "metadata": {},
   "outputs": [],
   "source": []
  }
 ],
 "metadata": {
  "kernelspec": {
   "display_name": "Python 3",
   "language": "python",
   "name": "python3"
  },
  "language_info": {
   "codemirror_mode": {
    "name": "ipython",
    "version": 3
   },
   "file_extension": ".py",
   "mimetype": "text/x-python",
   "name": "python",
   "nbconvert_exporter": "python",
   "pygments_lexer": "ipython3",
   "version": "3.7.6"
  }
 },
 "nbformat": 4,
 "nbformat_minor": 4
}
