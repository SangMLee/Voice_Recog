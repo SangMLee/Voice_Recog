{
 "cells": [
  {
   "cell_type": "code",
   "execution_count": 6,
   "metadata": {
    "scrolled": true
   },
   "outputs": [],
   "source": [
    "import os\n",
    "import glob\n",
    "import random\n",
    "\n",
    "import numpy as np\n",
    "import pandas as pd\n",
    "import tensorflow as tf\n",
    "\n",
    "%matplotlib inline"
   ]
  },
  {
   "cell_type": "code",
   "execution_count": 1,
   "metadata": {
    "scrolled": true
   },
   "outputs": [
    {
     "name": "stdout",
     "output_type": "stream",
     "text": [
      "Found 35279 images belonging to 100 classes.\n",
      "Found 2203 images belonging to 100 classes.\n"
     ]
    }
   ],
   "source": [
    "BATCH_SIZE = 32\n",
    "trdata = ImageDataGenerator()\n",
    "vadata = ImageDataGenerator()\n",
    "\n",
    "traindata = trdata.flow_from_directory(directory=\"../input/voice-full/train\",\n",
    "                                       target_size=(224,224) ,shuffle=True, batch_size=BATCH_SIZE)\n",
    "validata = vadata.flow_from_directory(directory=\"../input/voice-full/vali\", \n",
    "                                      target_size=(224,224),shuffle=True, batch_size=BATCH_SIZE) "
   ]
  },
  {
   "cell_type": "code",
   "execution_count": 2,
   "metadata": {},
   "outputs": [
    {
     "data": {
      "text/plain": [
       "100"
      ]
     },
     "execution_count": 2,
     "metadata": {},
     "output_type": "execute_result"
    }
   ],
   "source": [
    "d_lab = testdata.class_indices"
   ]
  },
  {
   "cell_type": "code",
   "execution_count": 12,
   "metadata": {
    "scrolled": true
   },
   "outputs": [],
   "source": [
    "import tensorflow.keras \n",
    "from tensorflow.keras.models import Sequential\n",
    "from tensorflow.keras.layers import BatchNormalization\n",
    "from tensorflow.keras.layers import Dense, Conv2D, MaxPooling2D , Flatten, Activation, Dropout, GlobalAveragePooling2D\n",
    "from keras import regularizers\n",
    "\n",
    "def model_init(num_classes, shape=(224,224,3)):\n",
    "    \n",
    "    filters = 64\n",
    "    kernel = (3,3)\n",
    "    m = Sequential()\n",
    "    m.add(Conv2D(filters, kernel, input_shape=shape, padding='same', activation='relu'))\n",
    "    m.add(Conv2D(filters, kernel, padding='same', activation='relu'))\n",
    "    m.add(MaxPooling2D(pool_size=(2,2),strides=(2,2))) \n",
    "    m.add(Dropout(0.2))\n",
    "    m.add(Conv2D(128, kernel, padding='same', activation='relu'))  \n",
    "    m.add(Conv2D(128, kernel, padding='same', activation='relu'))\n",
    "    m.add(MaxPooling2D(pool_size=(2,2),strides=(2,2))) \n",
    "    m.add(Dropout(0.2))\n",
    "    m.add(Conv2D(256, kernel, padding='same', activation='relu'))  \n",
    "    m.add(Conv2D(256, kernel, padding='same', activation='relu' ))\n",
    "    m.add(MaxPooling2D(pool_size=(2,2),strides=(2,2))) \n",
    "    \n",
    "    m.add(Flatten())\n",
    "    m.add(Dense(1024, activation='relu'))\n",
    "    m.add(Dense(num_classes, activation='softmax'))\n",
    "    return m"
   ]
  },
  {
   "cell_type": "code",
   "execution_count": 13,
   "metadata": {},
   "outputs": [
    {
     "name": "stdout",
     "output_type": "stream",
     "text": [
      "Model: \"sequential_1\"\n",
      "_________________________________________________________________\n",
      "Layer (type)                 Output Shape              Param #   \n",
      "=================================================================\n",
      "conv2d_1 (Conv2D)            (None, 224, 224, 64)      1792      \n",
      "_________________________________________________________________\n",
      "conv2d_2 (Conv2D)            (None, 224, 224, 64)      36928     \n",
      "_________________________________________________________________\n",
      "max_pooling2d_1 (MaxPooling2 (None, 112, 112, 64)      0         \n",
      "_________________________________________________________________\n",
      "conv2d_3 (Conv2D)            (None, 112, 112, 128)     73856     \n",
      "_________________________________________________________________\n",
      "conv2d_4 (Conv2D)            (None, 112, 112, 128)     147584    \n",
      "_________________________________________________________________\n",
      "conv2d_5 (Conv2D)            (None, 112, 112, 128)     147584    \n",
      "_________________________________________________________________\n",
      "max_pooling2d_2 (MaxPooling2 (None, 56, 56, 128)       0         \n",
      "_________________________________________________________________\n",
      "flatten_1 (Flatten)          (None, 401408)            0         \n",
      "_________________________________________________________________\n",
      "dense_2 (Dense)              (None, 2048)              822085632 \n",
      "_________________________________________________________________\n",
      "dense_3 (Dense)              (None, 3)                 6147      \n",
      "=================================================================\n",
      "Total params: 822,499,523\n",
      "Trainable params: 822,499,523\n",
      "Non-trainable params: 0\n",
      "_________________________________________________________________\n"
     ]
    }
   ],
   "source": [
    "from tensorflow.keras.optimizers import Adam\n",
    "\n",
    "model = model_init(len(d_lab)) \n",
    "opt = Adam(lr=0.0001)\n",
    "model.compile(optimizer=opt, loss=tensorflow.keras.losses.categorical_crossentropy, metrics=['acc'])\n",
    "\n",
    "model.summary()"
   ]
  },
  {
   "cell_type": "code",
   "execution_count": null,
   "metadata": {},
   "outputs": [],
   "source": [
    "from keras.callbacks import ModelCheckpoint, EarlyStopping\n",
    "checkpoint = ModelCheckpoint(\"voice_model.h5\", monitor='val_acc', verbose=1, save_best_only=True, save_weights_only=False, mode='auto', period=1)\n",
    "early = EarlyStopping(monitor='val_acc', min_delta=0, patience=5, verbose=1, mode='auto')"
   ]
  },
  {
   "cell_type": "code",
   "execution_count": 2,
   "metadata": {
    "scrolled": false
   },
   "outputs": [
    {
     "ename": "NameError",
     "evalue": "name 'model' is not defined",
     "output_type": "error",
     "traceback": [
      "\u001b[0;31m---------------------------------------------------------------------------\u001b[0m",
      "\u001b[0;31mNameError\u001b[0m                                 Traceback (most recent call last)",
      "\u001b[0;32m<ipython-input-2-d6e8b97f30a7>\u001b[0m in \u001b[0;36m<module>\u001b[0;34m\u001b[0m\n\u001b[0;32m----> 1\u001b[0;31m hist = model.fit_generator(steps_per_epoch=100,generator=traindata, validation_data= testdata, \n\u001b[0m\u001b[1;32m      2\u001b[0m                            validation_steps=10,epochs=10,callbacks=[checkpoint,early])\n\u001b[1;32m      3\u001b[0m \u001b[0;31m#history = model.fit(traindata,\u001b[0m\u001b[0;34m\u001b[0m\u001b[0;34m\u001b[0m\u001b[0;34m\u001b[0m\u001b[0m\n\u001b[1;32m      4\u001b[0m \u001b[0;31m#                epochs=2,\u001b[0m\u001b[0;34m\u001b[0m\u001b[0;34m\u001b[0m\u001b[0;34m\u001b[0m\u001b[0m\n\u001b[1;32m      5\u001b[0m \u001b[0;31m#                validation_data=testdata)\u001b[0m\u001b[0;34m\u001b[0m\u001b[0;34m\u001b[0m\u001b[0;34m\u001b[0m\u001b[0m\n",
      "\u001b[0;31mNameError\u001b[0m: name 'model' is not defined"
     ]
    }
   ],
   "source": [
    "#IMAGE_SIZE = [244, 244]\n",
    "hist = model.fit(\n",
    "    #get_training_dataset(),\n",
    "    traindata,\n",
    "    steps_per_epoch=traindata.samples//traindata.batch_size,\n",
    "    #steps_per_epoch=BATCH_SIZE,\n",
    "    epochs=20,\n",
    "    validation_data=validata, \n",
    "    validation_steps=validata.samples//validata.batch_size,\n",
    "    #validation_steps=BATCH_SIZE,\n",
    "    verbose=1,\n",
    "    callbacks=[checkpoint,early])"
   ]
  },
  {
   "cell_type": "code",
   "execution_count": null,
   "metadata": {},
   "outputs": [],
   "source": [
    "#plt.plot(hist.history[\"accuracy\"])\n",
    "#plt.plot(hist.history['val_accuracy'])\n",
    "plt.plot(hist.history['loss'][1:])\n",
    "plt.plot(hist.history['val_loss'][1:])\n",
    "plt.title(\"model accuracy\")\n",
    "plt.ylabel(\"Accuracy\")\n",
    "plt.xlabel(\"Epoch\")\n",
    "plt.legend([\"Accuracy\",\"Validation Accuracy\",\"loss\",\"Validation Loss\"])\n",
    "plt.show()"
   ]
  }
 ],
 "metadata": {
  "kernelspec": {
   "display_name": "Python 3",
   "language": "python",
   "name": "python3"
  },
  "language_info": {
   "codemirror_mode": {
    "name": "ipython",
    "version": 3
   },
   "file_extension": ".py",
   "mimetype": "text/x-python",
   "name": "python",
   "nbconvert_exporter": "python",
   "pygments_lexer": "ipython3",
   "version": "3.7.6"
  }
 },
 "nbformat": 4,
 "nbformat_minor": 2
}
